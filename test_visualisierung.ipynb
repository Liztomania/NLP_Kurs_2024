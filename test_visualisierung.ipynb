{
  "nbformat": 4,
  "nbformat_minor": 0,
  "metadata": {
    "colab": {
      "provenance": [],
      "authorship_tag": "ABX9TyOXRXr2HEysN11X89GNPXZh",
      "include_colab_link": true
    },
    "kernelspec": {
      "name": "python3",
      "display_name": "Python 3"
    },
    "language_info": {
      "name": "python"
    }
  },
  "cells": [
    {
      "cell_type": "markdown",
      "metadata": {
        "id": "view-in-github",
        "colab_type": "text"
      },
      "source": [
        "<a href=\"https://colab.research.google.com/github/Liztomania/NLP_Kurs_2024/blob/main/test_visualisierung.ipynb\" target=\"_parent\"><img src=\"https://colab.research.google.com/assets/colab-badge.svg\" alt=\"Open In Colab\"/></a>"
      ]
    },
    {
      "cell_type": "code",
      "execution_count": null,
      "metadata": {
        "id": "_akDKO6QSDmV"
      },
      "outputs": [],
      "source": []
    },
    {
      "cell_type": "markdown",
      "source": [
        "# Test Visualisierung"
      ],
      "metadata": {
        "id": "dYZxzALVSEbR"
      }
    },
    {
      "cell_type": "code",
      "source": [
        "%pip install -q pysolr\n",
        "\n",
        "\n",
        "import pandas as pd\n",
        "import pysolr\n",
        "\n",
        "solr_url = 'https://api.deutsche-digitale-bibliothek.de/2/search/index/newspaper-issues'\n",
        "solr = pysolr.Solr(solr_url, always_commit=True, timeout=30)\n",
        "\n",
        "q = {\n",
        "    'q': 'plainpagefulltext:\"China~ Erdbeben~\"~35 AND publication_year:[1920 TO 1921]',\n",
        "    'rows': 200\n",
        "}\n",
        "\n",
        "response = solr.search(**q)\n",
        "\n",
        "# Überführen der Ergebnisse in ein Pandas DataFrame\n",
        "df = pd.DataFrame(response.docs)\n",
        "\n",
        "# DataFrame anzeigen\n",
        "df"
      ],
      "metadata": {
        "id": "icfXNGB1SKWM"
      },
      "execution_count": null,
      "outputs": []
    }
  ]
}