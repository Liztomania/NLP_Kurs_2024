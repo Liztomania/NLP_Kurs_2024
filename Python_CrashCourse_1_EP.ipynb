{
  "nbformat": 4,
  "nbformat_minor": 0,
  "metadata": {
    "colab": {
      "provenance": [],
      "include_colab_link": true
    },
    "kernelspec": {
      "name": "python3",
      "display_name": "Python 3"
    },
    "language_info": {
      "name": "python"
    }
  },
  "cells": [
    {
      "cell_type": "markdown",
      "metadata": {
        "id": "view-in-github",
        "colab_type": "text"
      },
      "source": [
        "<a href=\"https://colab.research.google.com/github/Liztomania/NLP_Kurs_2024/blob/main/Python_CrashCourse_1_EP.ipynb\" target=\"_parent\"><img src=\"https://colab.research.google.com/assets/colab-badge.svg\" alt=\"Open In Colab\"/></a>"
      ]
    },
    {
      "cell_type": "markdown",
      "source": [
        "# Getting Started\n",
        "\n",
        "Created by Sarah Oberbichler [![ORCID](https://info.orcid.org/wp-content/uploads/2019/11/orcid_16x16.png)](https://orcid.org/0000-0002-1031-2759)\n"
      ],
      "metadata": {
        "id": "NH7ow5o9WcSw"
      }
    },
    {
      "cell_type": "markdown",
      "source": [
        "To run code, click the play button that appears when hovering over the left margin of the code cell, or use the keyboard shortcut Ctrl+Enter. The code will then execute, and its output will be displayed below the code cell. See also what happens, if you remove the quotation marks."
      ],
      "metadata": {
        "id": "QC0OpzlW1nRA"
      }
    },
    {
      "cell_type": "code",
      "source": [
        "print(\"Ready, set, GO!\")"
      ],
      "metadata": {
        "id": "BXz52tb-Ws-q",
        "colab": {
          "base_uri": "https://localhost:8080/"
        },
        "outputId": "0aad9f00-9a91-403c-c2ab-514a7e12a695"
      },
      "execution_count": 1,
      "outputs": [
        {
          "output_type": "stream",
          "name": "stdout",
          "text": [
            "Ready, set, GO!\n"
          ]
        }
      ]
    },
    {
      "cell_type": "markdown",
      "source": [
        "Let's do some simple math. Run the code to see how much 50 * 17 is. Try the same with plus, minus and fraction"
      ],
      "metadata": {
        "id": "MjXqAK-rcIlY"
      }
    },
    {
      "cell_type": "code",
      "source": [
        "50 * 17\n"
      ],
      "metadata": {
        "id": "Y6TBnFqfYW5O",
        "colab": {
          "base_uri": "https://localhost:8080/"
        },
        "outputId": "084dd70d-dbbe-40eb-d593-fdf49b11420e"
      },
      "execution_count": 2,
      "outputs": [
        {
          "output_type": "execute_result",
          "data": {
            "text/plain": [
              "850"
            ]
          },
          "metadata": {},
          "execution_count": 2
        }
      ]
    },
    {
      "cell_type": "markdown",
      "source": [
        "#Variable Assignment\n",
        "\n",
        "A variable acts like a container or label for a piece of data, allowing you to easily access and manipulate that information later.\n",
        "\n",
        "When you connect a name to a specific piece of data, you can then use that name to retrieve the data or perform operations on it.\n",
        "\n",
        "To create a variable, use the = symbol. Put the name you want to give your data on the left side of the equals sign, and the actual data (or \"value\") on the right side.\n",
        "\n",
        "\n",
        "*chosen_name = data_or_value*\n",
        "\n",
        "This action doesn't produce any immediate visible result. Instead, it saves the connection between the name and the data in the computer's memory. You can then use this name throughout your coding session to refer back to that specific piece of data.\n",
        "\n",
        "\n",
        "\n",
        "\n"
      ],
      "metadata": {
        "id": "Wk9VQusadbbR"
      }
    },
    {
      "cell_type": "code",
      "source": [
        "# @markdown ##### Run the cell\n",
        "x = 2"
      ],
      "metadata": {
        "id": "1MgleKd3dHOC"
      },
      "execution_count": 3,
      "outputs": []
    },
    {
      "cell_type": "code",
      "source": [
        "# @markdown ##### Now print x\n",
        "\n",
        "# add your code here below:\n",
        "\n",
        "print(x)"
      ],
      "metadata": {
        "id": "y-GFAs7EXK-l",
        "colab": {
          "base_uri": "https://localhost:8080/"
        },
        "outputId": "01cc2cb2-131c-4d43-d137-b9a9c2b98fe8"
      },
      "execution_count": 4,
      "outputs": [
        {
          "output_type": "stream",
          "name": "stdout",
          "text": [
            "2\n"
          ]
        }
      ]
    },
    {
      "cell_type": "code",
      "source": [
        "# @markdown ##### Can you tell what happens here?\n",
        "# x * 2 ist 2 * 2 = 4\n",
        "print(x * 2)\n",
        "# x ist gleich x | 2 = 2 |True\n",
        "print(x == x)\n",
        "# x größer als 6 | 2 > 6 | False\n",
        "print(x > 6)"
      ],
      "metadata": {
        "id": "iFRbU1CgXXHs",
        "colab": {
          "base_uri": "https://localhost:8080/"
        },
        "outputId": "520e364b-a552-4695-a561-53290d9e9f8d"
      },
      "execution_count": 5,
      "outputs": [
        {
          "output_type": "stream",
          "name": "stdout",
          "text": [
            "4\n",
            "True\n",
            "False\n"
          ]
        }
      ]
    },
    {
      "cell_type": "markdown",
      "source": [
        "You can use a variable to store any type of data. In our previous example, we stored text (known as a string) in a variable. It's important to remember that when working with text, you need to enclose it in quotation marks.\n",
        "\n",
        "The term 'variable' comes from the fact that their contents can change. You have the flexibility to update what's stored in a variable at any time. However, be cautious: if you use the same variable name again with a new value, it will replace the original data stored there."
      ],
      "metadata": {
        "id": "5pwzm6CgWRoI"
      }
    },
    {
      "cell_type": "code",
      "source": [
        "political_party = 'CDU'"
      ],
      "metadata": {
        "id": "XAprLw91WAEk"
      },
      "execution_count": 6,
      "outputs": []
    },
    {
      "cell_type": "code",
      "source": [
        "print(political_party)"
      ],
      "metadata": {
        "id": "pUaJy6K5WC3G",
        "colab": {
          "base_uri": "https://localhost:8080/"
        },
        "outputId": "86dfb570-8f47-47fc-b448-c747f8f2d5b8"
      },
      "execution_count": 10,
      "outputs": [
        {
          "output_type": "stream",
          "name": "stdout",
          "text": [
            "AFD\n"
          ]
        }
      ]
    },
    {
      "cell_type": "code",
      "source": [
        "#Let's add another political party:\n",
        "political_party = 'AFD'"
      ],
      "metadata": {
        "id": "-tzQvJB5WH-f"
      },
      "execution_count": 8,
      "outputs": []
    },
    {
      "cell_type": "code",
      "source": [
        "political_party"
      ],
      "metadata": {
        "id": "ttMmrnm_WJxM",
        "colab": {
          "base_uri": "https://localhost:8080/",
          "height": 35
        },
        "outputId": "3545576a-fcce-4787-eeb0-e6c6c2b8dbe8"
      },
      "execution_count": 9,
      "outputs": [
        {
          "output_type": "execute_result",
          "data": {
            "text/plain": [
              "'AFD'"
            ],
            "application/vnd.google.colaboratory.intrinsic+json": {
              "type": "string"
            }
          },
          "metadata": {},
          "execution_count": 9
        }
      ]
    },
    {
      "cell_type": "code",
      "source": [
        "# @markdown ##### **Exercise 1:** How could we solce this problem? How can we save both political parties?\n",
        "\n",
        "#add your code here below\n",
        "# solution: using a list with different parties as objects\n",
        "political_parties = ['Gruene', 'Die Partei', 'CDU', 'SPD', 'AFD']\n",
        "print((political_parties)[2])\n",
        "\n"
      ],
      "metadata": {
        "id": "h3DhyNmlXnoc",
        "colab": {
          "base_uri": "https://localhost:8080/"
        },
        "outputId": "b57e9bfd-df28-49a6-f4de-7e880a3dc2cb"
      },
      "execution_count": 11,
      "outputs": [
        {
          "output_type": "stream",
          "name": "stdout",
          "text": [
            "CDU\n"
          ]
        }
      ]
    },
    {
      "cell_type": "code",
      "source": [
        "# @markdown ##### **Exercise 2:** Write a simpple program that calculates how many minutes there are in seven weeks. Use variables for this exercise.\n",
        "# minutes per hour = 60, hours_per_day = 24, days_per_week = 7 in einer Funktion zusammenfassen\n",
        "# Input von User:in ist Anzahl der Wochen (im Beispiel: 7)\n",
        "def minutes_in_weeks():\n",
        "  # weeks wird hier innerhalb der Funktion definiert, daher können Klammern oben frei bleiben\n",
        "    weeks = int(input(\"Gib die Anzahl der Wochen ein, die in Minuten umgerechnet werden sollen: \"))\n",
        "    return weeks * 7 * 24 * 60\n",
        "\n",
        "print (f\"{weeks} Wochen sind {minutes_in_weeks()} Minuten\")\n",
        "\n",
        "\n"
      ],
      "metadata": {
        "id": "BngMw19pbVqI",
        "colab": {
          "base_uri": "https://localhost:8080/"
        },
        "outputId": "ec9a692b-9fb6-4373-ee18-77a975740788"
      },
      "execution_count": 15,
      "outputs": [
        {
          "output_type": "stream",
          "name": "stdout",
          "text": [
            "Gib die Anzahl der Wochen ein, die in Minuten umgerechnet werden sollen: 7\n",
            "7 Wochen sind 70560 Minuten\n"
          ]
        }
      ]
    },
    {
      "cell_type": "markdown",
      "source": [
        "# String Manipulation\n",
        "Many disciplines within the humanities work on texts. Quite naturally programming for the humanities will focus a lot on manipulating texts. Strings can -  just as numbers - be added, or, more precisely, concatenated, together."
      ],
      "metadata": {
        "id": "hMqNG1pwgMO3"
      }
    },
    {
      "cell_type": "code",
      "source": [
        "# @markdown #####  Add your name to the variable \"my_name\" and run the code\n",
        "\n",
        "my_name = 'Elisabeth'\n",
        "book = \"Man without Women\"\n",
        "author = 'Haruki Murakami'\n",
        "print(my_name + \" likes \" + book + \" by \" + author)\n",
        "\n",
        "\n"
      ],
      "metadata": {
        "id": "NZq6-lKVgurB",
        "colab": {
          "base_uri": "https://localhost:8080/"
        },
        "outputId": "0a8aefc6-6aa9-449a-e9cc-8005edb309f5"
      },
      "execution_count": 16,
      "outputs": [
        {
          "output_type": "stream",
          "name": "stdout",
          "text": [
            "Elisabeth likes Man without Women by Haruki Murakami\n"
          ]
        }
      ]
    },
    {
      "cell_type": "code",
      "source": [
        "# @markdown ##### This string consists of a number of characters. We can access the individual characters with the help of indexing. For example, to find only the first letter of your name, you can type in [0]. Now try to find the second letter in your name:\n",
        "\n",
        "first_letter = my_name[1]\n",
        "print(first_letter)"
      ],
      "metadata": {
        "id": "BAnnmODxiEj4",
        "colab": {
          "base_uri": "https://localhost:8080/"
        },
        "outputId": "49491d16-8f0b-4c8f-dacc-405a94ff1a08"
      },
      "execution_count": 17,
      "outputs": [
        {
          "output_type": "stream",
          "name": "stdout",
          "text": [
            "l\n"
          ]
        }
      ]
    },
    {
      "cell_type": "code",
      "source": [
        "# @markdown ##### To find the last letter in your name, you might want to know how many letters your name has. We can do this with the function len(), which returns the length of a string:\n",
        "print(len(my_name))"
      ],
      "metadata": {
        "id": "vOtpFb9tiug8",
        "colab": {
          "base_uri": "https://localhost:8080/"
        },
        "outputId": "a7b9a3b8-ba55-4ed7-f03e-f2ea734b1992"
      },
      "execution_count": 18,
      "outputs": [
        {
          "output_type": "stream",
          "name": "stdout",
          "text": [
            "9\n"
          ]
        }
      ]
    },
    {
      "cell_type": "code",
      "source": [
        "# @markdown ##### Can you explain what this code is doing?\n",
        "# greift auf den letzten Buchstaben zu. Würde auch ohne len funktionieren.\n",
        "# nummerierung im negativen Bereich zählt von rechts\n",
        "print(my_name[len(my_name)-1])"
      ],
      "metadata": {
        "id": "1eSonN1bjIkU",
        "colab": {
          "base_uri": "https://localhost:8080/"
        },
        "outputId": "a3eb4c97-4e0d-4dbd-e53d-7c92397bd5a1"
      },
      "execution_count": 19,
      "outputs": [
        {
          "output_type": "stream",
          "name": "stdout",
          "text": [
            "h\n"
          ]
        }
      ]
    },
    {
      "cell_type": "code",
      "source": [
        "# @markdown ##### Can you explain what this code is doing?\n",
        "# Greift auf erste zwei Buchstaben zu, exklusive drittem Buchstaben, also exklusive \"2\"\n",
        "first_two_letters = my_name[0:2]\n",
        "print(first_two_letters)"
      ],
      "metadata": {
        "id": "rxx2xi9tleiD",
        "colab": {
          "base_uri": "https://localhost:8080/"
        },
        "outputId": "6a9e0153-d38e-4620-ab86-dc6d197013d5"
      },
      "execution_count": 20,
      "outputs": [
        {
          "output_type": "stream",
          "name": "stdout",
          "text": [
            "El\n"
          ]
        }
      ]
    },
    {
      "cell_type": "code",
      "source": [
        "# @markdown ##### **Exercise 3:** Given the following two words, can you write code that prints out the word humanities using only slicing and concatenation? (So, no quotes are allowed in your code.)\n",
        "\n",
        "word1 = \"human\"\n",
        "word2 = \"opportunities\"\n",
        "\n",
        "# insert your code here\n",
        "humanities = word1 + word2[-6:]\n",
        "print(humanities)"
      ],
      "metadata": {
        "id": "KEg-uShKjs5j",
        "colab": {
          "base_uri": "https://localhost:8080/"
        },
        "outputId": "73a6f20a-84ee-468d-ec6d-9b345fc17976"
      },
      "execution_count": 28,
      "outputs": [
        {
          "output_type": "stream",
          "name": "stdout",
          "text": [
            "humannities\n"
          ]
        }
      ]
    },
    {
      "cell_type": "markdown",
      "source": [
        "\n",
        "# Lists\n",
        "\n",
        "\n",
        ">**List:** An ordered, changeable collection of values.\n",
        "\n",
        "Lists are denoted by **square brackets [ ]**, and its elements are separated by commas. Any object type could be a value within a list, including other lists or collections of objects (putting a list within a list is called nesting).\n",
        "\n",
        "## Example\n",
        "\n",
        "You love traveling to different continents. Perhaps you want to write a piece of code to announce your passion.\n",
        "\n",
        "First, let's describe everything we want the code to do. We could:\n",
        "\n",
        "1. Create a list of seven continents, including 'Asia', 'Africa', 'North America', 'South America', 'Antarctica', 'Europe', 'Australia'\n",
        "\n",
        "2. For each contintent in the list,\n",
        "    print \"This continent is one of the seven continents\",\n",
        "    and then print \"I love this continent\".\n",
        "    \n",
        "3. When done with all continents, print \"But aren't there only six continents?\"\n",
        "\n",
        "That is what the code below does. You might not fully be aware of the details of the structure, but you can begin to read it:"
      ],
      "metadata": {
        "id": "GhYFQ1noU-5w"
      }
    },
    {
      "cell_type": "code",
      "source": [
        "SevenContinents = ['Asia', 'Africa', 'North America', 'South America', 'Antarctica', 'Europe', 'Australia']\n",
        "\n",
        "for continent in SevenContinents:\n",
        "    print(continent, \"is one of the seven continents\")\n",
        "    print(\"I love\", continent)\n",
        "print(\"But aren't there only six continents?\")\n",
        "\n",
        "#(Run me!)"
      ],
      "metadata": {
        "id": "Vi4x6CIHU06p",
        "colab": {
          "base_uri": "https://localhost:8080/"
        },
        "outputId": "670fbeca-cf97-46a5-e48a-f9924ebf4901"
      },
      "execution_count": 29,
      "outputs": [
        {
          "output_type": "stream",
          "name": "stdout",
          "text": [
            "Asia is one of the seven continents\n",
            "I love Asia\n",
            "Africa is one of the seven continents\n",
            "I love Africa\n",
            "North America is one of the seven continents\n",
            "I love North America\n",
            "South America is one of the seven continents\n",
            "I love South America\n",
            "Antarctica is one of the seven continents\n",
            "I love Antarctica\n",
            "Europe is one of the seven continents\n",
            "I love Europe\n",
            "Australia is one of the seven continents\n",
            "I love Australia\n",
            "But aren't there only six continents?\n"
          ]
        }
      ]
    },
    {
      "cell_type": "markdown",
      "source": [
        "This code also uses a **for loop**.\n",
        "Python provides the so-called for-statements that allow us to iterate through any iterable object and perform actions on its elements."
      ],
      "metadata": {
        "id": "J9a9qpUraMQB"
      }
    },
    {
      "cell_type": "code",
      "source": [
        "# @markdown ##### **Exercise 4:** Now let's use the above example to list South Africa's so called *Big Five*. Find out what animals are part of the Big Five and adapt the code to this new example. Then ask, why the hippo is not part of the Big Five.\n",
        "\n",
        "# add your code here below:\n",
        "\n",
        "BigFive = ['Lion', 'Leopard', 'Rhinoceros', 'Elephant', 'African Buffalo']\n",
        "\n",
        "for animal in BigFive:\n",
        "  print(animal, \"is one of the Big Five\")\n",
        "\n",
        "special_animal = input(\"What is your favourite animal? \")\n",
        "if special_animal in BigFive:\n",
        "  print(f\"{special_animal} is a great animal and it is also one of the Big Five\")\n",
        "else:\n",
        "  print(f\"{special_animal} is a great animal! But unfortunately it is not one of the Big Five\")\n",
        "\n",
        "## lion funktioniert nicht, weil case sensitive. Lion schon."
      ],
      "metadata": {
        "id": "Z1E4J5r9Ycq2",
        "colab": {
          "base_uri": "https://localhost:8080/"
        },
        "outputId": "2fbd3ecd-4a75-4c8e-8738-5dbbe5ecd5f2"
      },
      "execution_count": 33,
      "outputs": [
        {
          "output_type": "stream",
          "name": "stdout",
          "text": [
            "Lion is one of the Big Five\n",
            "Leopard is one of the Big Five\n",
            "Rhinoceros is one of the Big Five\n",
            "Elephant is one of the Big Five\n",
            "African Buffalo is one of the Big Five\n",
            "What is your favourite animal? Hippo\n",
            "Hippo is a great animal! But unfortunately it is not one of the Big Five\n"
          ]
        }
      ]
    },
    {
      "cell_type": "markdown",
      "source": [
        "## Let's add the \"if, else\" combination\n",
        "\n",
        "Run the example and try to understand what this code is doing"
      ],
      "metadata": {
        "id": "SB9shIOLX0X-"
      }
    },
    {
      "cell_type": "code",
      "source": [
        "good_reads = [\"The Hunger games\", \"A Clockwork Orange\",\n",
        "              \"Pride and Prejudice\", \"Water for Elephants\",\n",
        "              \"The Shadow of the Wind\", \"Bel Canto\"]\n",
        "\n",
        "book = \"A Clockwork Orange\"\n",
        "if book in good_reads:\n",
        "    print(book + \" is in the collection\")\n",
        "    print(\"A lot more\")\n",
        "    print(\"Still more to come\")\n",
        "else:\n",
        "    print(book + \" is NOT in the collection\")\n",
        "\n",
        "#run me"
      ],
      "metadata": {
        "id": "Rj2WAT-BarYm",
        "colab": {
          "base_uri": "https://localhost:8080/"
        },
        "outputId": "942a64b0-1a9b-491b-83f3-fdfb0baf9d1a"
      },
      "execution_count": 34,
      "outputs": [
        {
          "output_type": "stream",
          "name": "stdout",
          "text": [
            "A Clockwork Orange is in the collection\n",
            "A lot more\n",
            "Still more to come\n"
          ]
        }
      ]
    },
    {
      "cell_type": "markdown",
      "source": [
        "#### Exercise 6\n"
      ],
      "metadata": {
        "id": "BkOryi5E-E-b"
      }
    },
    {
      "cell_type": "code",
      "source": [
        "# @markdown ##### 1. Create a list of German political parties\n",
        "\n",
        "# add you code here below\n",
        "german_parties = ['SPD', 'Die Partei', 'Die Grünen', 'CDU', 'CSU', 'FDP']\n",
        "\n",
        "\n",
        "\n"
      ],
      "metadata": {
        "id": "0om4An3eWlyk"
      },
      "execution_count": 49,
      "outputs": []
    },
    {
      "cell_type": "code",
      "source": [
        "# @markdown ##### 2. Now check that your code created that variable by typing the variable name (and running the code cell).\n",
        "\n",
        "#add your code here below\n",
        "party = input(\"Welche Partei möchtest du in der Liste suchen? \")\n",
        "if party in german_parties:\n",
        "    print(party, \"ist in der Liste vorhanden. Juhu!\")\n",
        "else:\n",
        "    print(party, \"ist leider nicht in der Liste. Sorry!\")"
      ],
      "metadata": {
        "id": "b3vb3VQkXHoD",
        "colab": {
          "base_uri": "https://localhost:8080/"
        },
        "outputId": "059974c8-ee52-4da5-e67d-df2d3df65fa2"
      },
      "execution_count": 50,
      "outputs": [
        {
          "output_type": "stream",
          "name": "stdout",
          "text": [
            "Welche Partei möchtest du in der Liste suchen? SPD\n",
            "SPD ist in der Liste vorhanden. Juhu!\n"
          ]
        }
      ]
    },
    {
      "cell_type": "code",
      "source": [
        "# @markdown ##### 3. Now add: For each party, print ('I will vote for this party')\n",
        "\n",
        "#add your code here below\n",
        "for party in german_parties:\n",
        "    print(\"I will vote for\", party)"
      ],
      "metadata": {
        "id": "pHRlVE6AZvzK",
        "colab": {
          "base_uri": "https://localhost:8080/"
        },
        "outputId": "990b2005-feaa-47ac-f143-4888f661412a"
      },
      "execution_count": 51,
      "outputs": [
        {
          "output_type": "stream",
          "name": "stdout",
          "text": [
            "I will vote for SPD\n",
            "I will vote for Die Partei\n",
            "I will vote for Die Grünen\n",
            "I will vote for CDU\n",
            "I will vote for CSU\n",
            "I will vote for FDP\n"
          ]
        }
      ]
    },
    {
      "cell_type": "code",
      "source": [
        "# @markdown ##### 3. Let's assume we would not like to vote for each party. Create a pogram that says 'I will not vote for *name a party*. For the other parties, write \"I will consider voting\".\n",
        "\n",
        "#add your code here\n",
        "# Mit Hilfe von ChatGPT erstellt, der erste Versuch hat die nicht zu wählende Partei nicht aus der Liste genommen.\n",
        "my_least_favorite_party = input(\"Welche Partei wählst du auf keinen Fall? \")\n",
        "\n",
        "# Überprüfe, ob die unbeliebte Partei in der Liste ist\n",
        "if my_least_favorite_party in german_parties:\n",
        "    print(f\"Ich werde definitiv nicht {my_least_favorite_party} wählen. Aber vielleicht {[party for party in german_parties if party != my_least_favorite_party]}\")\n",
        "else:\n",
        "    print(f\"Ich werde definitiv nicht {my_least_favorite_party} wählen. Aber vielleicht {german_parties}\")"
      ],
      "metadata": {
        "id": "XFK6Pw5jeKLL",
        "colab": {
          "base_uri": "https://localhost:8080/"
        },
        "outputId": "3026cc52-fb63-4536-fe31-4edfedf94ae2"
      },
      "execution_count": 52,
      "outputs": [
        {
          "output_type": "stream",
          "name": "stdout",
          "text": [
            "Welche Partei wählst du auf keinen Fall? SPD\n",
            "Ich werde definitiv nicht SPD wählen. Aber vielleicht ['Die Partei', 'Die Grünen', 'CDU', 'CSU', 'FDP']\n"
          ]
        }
      ]
    },
    {
      "cell_type": "markdown",
      "source": [
        "## Creating lists from text\n",
        "\n",
        "We can also create a list of the words from a sentence. For this, we use the split() function, which will split each word into a single unit."
      ],
      "metadata": {
        "id": "LeA0bv1sqeev"
      }
    },
    {
      "cell_type": "code",
      "source": [
        "sentence = \"Bleiburg, 14. April. (Erdbeben.) Um 11 Uhr \\\n",
        "15 Minuten nachts wurde ein unheim­ liches Erdbeben mit schauerlichem unterirdischem\\\n",
        "Brausen und Getöse vernommen.\"\n",
        "\n",
        "sentence.split()"
      ],
      "metadata": {
        "id": "jxY5OAftq1D6",
        "colab": {
          "base_uri": "https://localhost:8080/"
        },
        "outputId": "338a8ec2-086d-4f96-a5e7-a2e5680fc7c3"
      },
      "execution_count": 53,
      "outputs": [
        {
          "output_type": "execute_result",
          "data": {
            "text/plain": [
              "['Bleiburg,',\n",
              " '14.',\n",
              " 'April.',\n",
              " '(Erdbeben.)',\n",
              " 'Um',\n",
              " '11',\n",
              " 'Uhr',\n",
              " '15',\n",
              " 'Minuten',\n",
              " 'nachts',\n",
              " 'wurde',\n",
              " 'ein',\n",
              " 'unheim\\xad',\n",
              " 'liches',\n",
              " 'Erdbeben',\n",
              " 'mit',\n",
              " 'schauerlichem',\n",
              " 'unterirdischemBrausen',\n",
              " 'und',\n",
              " 'Getöse',\n",
              " 'vernommen.']"
            ]
          },
          "metadata": {},
          "execution_count": 53
        }
      ]
    },
    {
      "cell_type": "markdown",
      "source": [
        "We can further add new items to a list. Let's start with an empty list this time and add two words from the splitted words above. To add items to a list, we use the append() function."
      ],
      "metadata": {
        "id": "Ns1FLYues9g-"
      }
    },
    {
      "cell_type": "code",
      "source": [
        "list = []\n",
        "list.append('Getöse')\n",
        "list.append('Erdbeben')\n",
        "list"
      ],
      "metadata": {
        "id": "fHQwRx4Xs72S",
        "colab": {
          "base_uri": "https://localhost:8080/"
        },
        "outputId": "828e8151-0a3d-43bf-e054-e7e8bdce3fc0"
      },
      "execution_count": 54,
      "outputs": [
        {
          "output_type": "execute_result",
          "data": {
            "text/plain": [
              "['Getöse', 'Erdbeben']"
            ]
          },
          "metadata": {},
          "execution_count": 54
        }
      ]
    }
  ]
}