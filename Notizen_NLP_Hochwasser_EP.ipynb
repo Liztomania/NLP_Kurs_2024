{
  "nbformat": 4,
  "nbformat_minor": 0,
  "metadata": {
    "colab": {
      "provenance": [],
      "authorship_tag": "ABX9TyN9xSDlbuQ+Cl9p603DcYR+",
      "include_colab_link": true
    },
    "kernelspec": {
      "name": "python3",
      "display_name": "Python 3"
    },
    "language_info": {
      "name": "python"
    }
  },
  "cells": [
    {
      "cell_type": "markdown",
      "metadata": {
        "id": "view-in-github",
        "colab_type": "text"
      },
      "source": [
        "<a href=\"https://colab.research.google.com/github/Liztomania/NLP_Kurs_2024/blob/main/Notizen_NLP_Hochwasser_EP.ipynb\" target=\"_parent\"><img src=\"https://colab.research.google.com/assets/colab-badge.svg\" alt=\"Open In Colab\"/></a>"
      ]
    },
    {
      "cell_type": "markdown",
      "source": [
        "# The 1910 European Floods\n",
        "\n",
        "## Erste Orientierung\n",
        "\n",
        "### Wikipedia\n",
        "Liste der Hochwasser i 20. Jahrhundert auf Wikipedia https://de.wikipedia.org/wiki/Liste_von_Hochwasser-Ereignissen#Hochwasser-Ereignisse_im_20._Jahrhundert\n",
        "\n",
        "- Seine\n",
        "- Lech\n",
        "- Ahr\n",
        "- Schweiz und Österreich\n",
        "\n",
        "Aus persönlichem Interesse für Hochwasser im Ahrtal am 13. Juni 1910 entschieden.\n",
        "\n",
        "### Deutsches Zeitungsportal\n",
        "\n",
        "Suchanfrage: \"Ahrtal\" Filter 1.1.1910-31.12.1910. 1.538 Ergebnisse mit deutlicher Häufung zur Mitte des Jahres (siehe Screenshot \"[1910.png](https://github.com/Liztomania/NLP_Kurs_2024/blob/main/1910.png)\")\n"
      ],
      "metadata": {
        "id": "26UVuIFAVhnk"
      }
    },
    {
      "cell_type": "code",
      "execution_count": null,
      "metadata": {
        "id": "soFprtwsVVeR"
      },
      "outputs": [],
      "source": []
    }
  ]
}