{
  "nbformat": 4,
  "nbformat_minor": 0,
  "metadata": {
    "colab": {
      "provenance": [],
      "authorship_tag": "ABX9TyMgs5BdUo2kbP5zlZkct4mO",
      "include_colab_link": true
    },
    "kernelspec": {
      "name": "python3",
      "display_name": "Python 3"
    },
    "language_info": {
      "name": "python"
    }
  },
  "cells": [
    {
      "cell_type": "markdown",
      "metadata": {
        "id": "view-in-github",
        "colab_type": "text"
      },
      "source": [
        "<a href=\"https://colab.research.google.com/github/Liztomania/NLP_Kurs_2024/blob/main/Notizen_NLP_Hochwasser_EP.ipynb\" target=\"_parent\"><img src=\"https://colab.research.google.com/assets/colab-badge.svg\" alt=\"Open In Colab\"/></a>"
      ]
    },
    {
      "cell_type": "markdown",
      "source": [
        "# The 1910 European Floods\n",
        "\n",
        "## Erste Orientierung\n",
        "\n",
        "### Wikipedia\n",
        "Liste der Hochwasser i 20. Jahrhundert auf Wikipedia https://de.wikipedia.org/wiki/Liste_von_Hochwasser-Ereignissen#Hochwasser-Ereignisse_im_20._Jahrhundert\n",
        "\n",
        "- Seine\n",
        "- Lech\n",
        "- Ahr\n",
        "- Schweiz und Österreich\n",
        "\n",
        "Aus persönlichem Interesse für Hochwasser im Ahrtal am 13. Juni 1910 entschieden.\n",
        "\n",
        "Liste von Hochwassern an der Ahr: https://de.wikipedia.org/wiki/Liste_von_Hochwasserereignissen_an_der_Ahr\n",
        "\n",
        "\n",
        "> 1910 Nach vorangegangenen, anhaltenden Regenfällen zwischen Hohe Acht und Hochkelberg schwollen die zur Ahr entwässernden Bäche stark an und führten in der Ahr zu einem Pegelstand von 5,0 m. Der für Altenahr ermittelte Spitzenabfluss des Hochwassers betrug ca. 500 m³/s.[1][5][3][9]\n",
        "Durch mitgeschwemmte Hölzer, Baugerät und anderes Material der gerade im Bau befindlichen Bahnstrecke Dümpelfeld–Lissendorf wurde die Wirkung des Hochwassers vor allem im oberen und mittleren Ahrtal noch verstärkt.\n",
        "Insgesamt kamen **52 Menschen** (eine andere Quelle nennt 70 Menschen), zumeist Bahnarbeiter um, die sich teilweise in ihren Baracken befanden. Alle Ortschaften im Tal des Trierbachs, Adenauerbachs und der oberen und mittleren Ahr erlitten erhebliche Schäden, **nahezu alle Brücken wurden zerstört**.\n",
        "Hauptartikel: Hochwasser der Ahr am 13. Juni 1910\n",
        "\n",
        "\n",
        "> 2021 Im Landkreis Ahrweiler hinterließ das Hochwasser eine Spur der Verwüstung. Kreisweit wurden **62 Brücken zerstört** und weitere 13 schwer beschädigt. Auf der Ahrtalbahn wurden mindestens sieben Brücken und rund 20 Kilometer Gleis durch Über- und Unterspülungen unbefahrbar. Zudem erlitten 19 Kindertagesstätten und 14 Schulen Beschädigungen. In der Gemeinde Schuld stürzten sechs Häuser ein, zahlreiche weitere wurden schwer beschädigt. In der Stadt Sinzig starben zwölf Bewohner der Behinderteneinrichtung „Lebenshilfe-Haus“, somit **starben insgesamt 135 Menschen** bei diesem Jahrhundert-Hochwasser im Ahrtal. Mehr als 330 Menschen wurden mit Hubschraubern von Dächern und Bäumen gerettet.[21]\n",
        "Die Staatsanwaltschaft Koblenz begann am 6. August 2021 ein Ermittlungsverfahren gegen den damaligen Landrat Jürgen Pföhler und ein Mitglied des Krisenstabes; es bestehe ein Anfangsverdacht auf fahrlässige Tötung und fahrlässige Körperverletzung durch Unterlassen. Pföhler wurde zum 31. Oktober 2021 in den Ruhestand versetzt (Näheres hier). Pegel Altenahr / Hochwasserstand: ca. 1000 cm.[13] Der für das Hochwasser ermittelte maximale Abfluss wurde mangels vorliegender Messdaten mittels des Pegels Reimerzhoven auf 750–1000 m³/s geschätzt. Damit war das Hochwasser 2021 neben den Hochwassern von 1804 und 1910 eines der stärksten bekannten Hochwasserereignisse an der Ahr.[5][22]\n",
        "Weitere Informationen: Hochwasser Landkreis Ahrweiler\n",
        "\n",
        "\n",
        "\n",
        "\n",
        "### Deutsches Zeitungsportal\n",
        "\n",
        "Suchanfrage: \"Ahrtal\" Filter 1.1.1910-31.12.1910. 1.538 Ergebnisse mit deutlicher Häufung zur Mitte des Jahres (siehe Screenshot \"[1910.png](https://github.com/Liztomania/NLP_Kurs_2024/blob/main/1910.png)\")\n"
      ],
      "metadata": {
        "id": "26UVuIFAVhnk"
      }
    },
    {
      "cell_type": "code",
      "execution_count": null,
      "metadata": {
        "id": "soFprtwsVVeR"
      },
      "outputs": [],
      "source": [
        "\n"
      ]
    }
  ]
}